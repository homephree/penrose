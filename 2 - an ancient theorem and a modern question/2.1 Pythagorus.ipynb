{
 "cells": [
  {
   "cell_type": "code",
   "execution_count": 2,
   "metadata": {
    "slideshow": {
     "slide_type": "notes"
    }
   },
   "outputs": [],
   "source": [
    "from shapely.geometry import Polygon, MultiPolygon\n",
    "import shapely.geometry as geo\n",
    "import shapely.affinity as af\n",
    "from matplotlib import pyplot as plot\n",
    "import numpy as np"
   ]
  },
  {
   "cell_type": "markdown",
   "metadata": {
    "slideshow": {
     "slide_type": "slide"
    }
   },
   "source": [
    "Define a tesselation of two squares adjacent to each other, on the same base line.\n",
    "On top of this define a square grid (simple tesselation) at an angle"
   ]
  },
  {
   "cell_type": "code",
   "execution_count": 3,
   "metadata": {
    "slideshow": {
     "slide_type": "subslide"
    }
   },
   "outputs": [],
   "source": [
    "size= (4, 3)"
   ]
  },
  {
   "cell_type": "code",
   "execution_count": 4,
   "metadata": {
    "code_folding": [],
    "slideshow": {
     "slide_type": "subslide"
    }
   },
   "outputs": [
    {
     "name": "stderr",
     "output_type": "stream",
     "text": [
      "/Users/kevinh/hubprojects/penrose/fixenv/lib/python3.7/site-packages/ipykernel_launcher.py:13: MatplotlibDeprecationWarning: Adding an axes using the same arguments as a previous axes currently reuses the earlier instance.  In a future version, a new instance will always be created and returned.  Meanwhile, this warning can be suppressed, and the future behavior ensured, by passing a unique label to each axes instance.\n",
      "  del sys.path[0]\n"
     ]
    },
    {
     "data": {
      "image/png": "[encoded data removed]",
      "text/plain": [
       "<Figure size 432x288 with 1 Axes>"
      ]
     },
     "metadata": {
      "needs_background": "light"
     },
     "output_type": "display_data"
    }
   ],
   "source": [
    "tile= MultiPolygon (\n",
    "    [geo.box(0,0,size[0],size[0]),\n",
    "    geo.box(size[0],0,size[0]+size[1],size[1]),\n",
    "    ])\n",
    "\n",
    "def plot_tile( plot, tile, color='black'):\n",
    "    for p in tile.geoms:    \n",
    "        x,y= p.exterior.xy\n",
    "        plot.plot(x,y, color=color)\n",
    "\n",
    "plot_tile(plot,  tile)\n",
    "plot.title(\"tile\")\n",
    "plot.axes().set_aspect('equal')\n",
    "plot.show()"
   ]
  },
  {
   "cell_type": "code",
   "execution_count": 5,
   "metadata": {
    "code_folding": [],
    "slideshow": {
     "slide_type": "slide"
    }
   },
   "outputs": [
    {
     "name": "stderr",
     "output_type": "stream",
     "text": [
      "/Users/kevinh/hubprojects/penrose/fixenv/lib/python3.7/site-packages/ipykernel_launcher.py:9: MatplotlibDeprecationWarning: Adding an axes using the same arguments as a previous axes currently reuses the earlier instance.  In a future version, a new instance will always be created and returned.  Meanwhile, this warning can be suppressed, and the future behavior ensured, by passing a unique label to each axes instance.\n",
      "  if __name__ == '__main__':\n"
     ]
    },
    {
     "data": {
      "image/png": "[encoded data removed]",
      "text/plain": [
       "<Figure size 432x288 with 1 Axes>"
      ]
     },
     "metadata": {
      "needs_background": "light"
     },
     "output_type": "display_data"
    }
   ],
   "source": [
    "tess=[]\n",
    "def tesselate(plot,tile,xsize=3,ysize=4):\n",
    "    for x in range(xsize):\n",
    "        for y in range(ysize):\n",
    "            t= af.translate( tile, x*size[0]-y*size[1], y*size[0]+ x*size[1])\n",
    "            plot_tile(plot, t)\n",
    "tesselate(plot, tile)\n",
    "plot.title('tesselation')\n",
    "plot.axes().set_aspect('equal')\n",
    "plot.show()"
   ]
  },
  {
   "cell_type": "markdown",
   "metadata": {
    "slideshow": {
     "slide_type": "slide"
    }
   },
   "source": [
    "Now overlay a square grid.\n",
    "The correct sizes are to use pythag to calculate the size of the line joining the two box corners, and to use trig to determine the angle between the corners."
   ]
  },
  {
   "cell_type": "code",
   "execution_count": 6,
   "metadata": {
    "code_folding": [],
    "slideshow": {
     "slide_type": "slide"
    }
   },
   "outputs": [
    {
     "name": "stderr",
     "output_type": "stream",
     "text": [
      "/Users/kevinh/hubprojects/penrose/fixenv/lib/python3.7/site-packages/ipykernel_launcher.py:14: MatplotlibDeprecationWarning: Adding an axes using the same arguments as a previous axes currently reuses the earlier instance.  In a future version, a new instance will always be created and returned.  Meanwhile, this warning can be suppressed, and the future behavior ensured, by passing a unique label to each axes instance.\n",
      "  \n"
     ]
    },
    {
     "data": {
      "image/png": "[encoded data removed]",
      "text/plain": [
       "<Figure size 432x288 with 1 Axes>"
      ]
     },
     "metadata": {
      "needs_background": "light"
     },
     "output_type": "display_data"
    }
   ],
   "source": [
    "gridsize= np.sqrt( np.square(size[0]) + np.square(size[1]))\n",
    "gridangle= np.rad2deg(np.arctan( size[1] / size[0], ))\n",
    "box= geo.box(0,0,gridsize, gridsize)\n",
    "\n",
    "def translate(box, x, y):\n",
    "    return af.translate(box, gridsize*x,gridsize*y,)\n",
    "grid= MultiPolygon([translate(box,x,y) for x in range(2) for y in range(2)])\n",
    "\n",
    "grid=af.rotate(grid, angle=gridangle, origin=(0,0))\n",
    "gridoffset=(0,size[0])\n",
    "grid= af.translate( grid, gridoffset[0], gridoffset[1])\n",
    "\n",
    "plot_tile(plot, grid, color='red')\n",
    "plot.axes().set_aspect('equal')\n",
    "tesselate(plot, tile)\n",
    "plot.show()"
   ]
  },
  {
   "cell_type": "markdown",
   "metadata": {
    "slideshow": {
     "slide_type": "slide"
    }
   },
   "source": [
    "From this it is obvious visually that the boxes made by joining the corners of the two little boxes covers the same area as the little boxes. I.e. the square on the angle of the triangle is equal to the other two squares."
   ]
  },
  {
   "cell_type": "markdown",
   "metadata": {},
   "source": [
    "To do: use the shapely commands to test the polygon coverage:\n",
    "- no overlap within the tile \n",
    "- complete overlap within the tesselation\n",
    "- complete overlap of the tesselation with the grid"
   ]
  },
  {
   "cell_type": "code",
   "execution_count": null,
   "metadata": {},
   "outputs": [],
   "source": []
  }
 ],
 "metadata": {
  "celltoolbar": "Raw Cell Format",
  "kernelspec": {
   "display_name": "Python 3",
   "language": "python",
   "name": "python3"
  },
  "language_info": {
   "codemirror_mode": {
    "name": "ipython",
    "version": 3
   },
   "file_extension": ".py",
   "mimetype": "text/x-python",
   "name": "python",
   "nbconvert_exporter": "python",
   "pygments_lexer": "ipython3",
   "version": "3.7.2"
  }
 },
 "nbformat": 4,
 "nbformat_minor": 4
}
