{
 "cells": [
  {
   "cell_type": "code",
   "execution_count": 1,
   "metadata": {
    "collapsed": false,
    "deletable": true,
    "editable": true
   },
   "outputs": [],
   "source": [
    "from shapely.geometry import Polygon, MultiPolygon\n",
    "import shapely.geometry as geo\n",
    "import shapely.affinity as af\n",
    "from matplotlib import pyplot\n",
    "from descartes import PolygonPatch\n",
    "import numpy as np"
   ]
  },
  {
   "cell_type": "markdown",
   "metadata": {
    "deletable": true,
    "editable": true
   },
   "source": [
    "Define a tesselation of two squares adjacent to each other, on the same base line.\n",
    "On top of this define a square grid (simple tesselation) at an angle"
   ]
  },
  {
   "cell_type": "code",
   "execution_count": 5,
   "metadata": {
    "collapsed": false,
    "deletable": true,
    "editable": true
   },
   "outputs": [],
   "source": [
    "size= (5, 2)\n",
    "grid= np.sqrt( np.square(size[0] + np.square(size[1])))\n",
    "angle= np.arctan( size[0] / size[1])"
   ]
  },
  {
   "cell_type": "code",
   "execution_count": 7,
   "metadata": {
    "collapsed": false,
    "deletable": true,
    "editable": true
   },
   "outputs": [
    {
     "data": {
      "image/png": "[encoded data removed]",
      "text/plain": [
       "<matplotlib.figure.Figure at 0x1050cbf60>"
      ]
     },
     "metadata": {},
     "output_type": "display_data"
    }
   ],
   "source": [
    "tile= MultiPolygon (\n",
    "    [geo.box(0,0,size[0],size[0]),\n",
    "    geo.box(size[0],0,size[0]+size[1],size[1]),\n",
    "    ])\n",
    "fig1= pyplot.figure(1, dpi=90, figsize=(1,1),)\n",
    "plot=fig1.add_subplot(111)\n",
    "\n",
    "def plot_tile( plot, tile):\n",
    "    for p in tile.geoms:    \n",
    "        x,y= p.exterior.xy\n",
    "        plot.plot(x,y)\n",
    "plot_tile(plot,  tile)\n",
    "plot.set_aspect('equal')\n",
    "pyplot.show()"
   ]
  },
  {
   "cell_type": "code",
   "execution_count": 12,
   "metadata": {
    "collapsed": false,
    "deletable": true,
    "editable": true
   },
   "outputs": [
    {
     "data": {
      "image/png": "[encoded data removed]",
      "text/plain": [
       "<matplotlib.figure.Figure at 0x1057040b8>"
      ]
     },
     "metadata": {},
     "output_type": "display_data"
    }
   ],
   "source": [
    "tess=[]\n",
    "fig2_plt= pyplot.figure(1, figsize=(size[0]+size[1],size[0]+size[1],), dpi=90)\\\n",
    "    .add_subplot(111)\n",
    "for x in range(3):\n",
    "    for y in range(4):\n",
    "        t= af.translate( tile, x*size[0]-y*size[1], y*size[0]+ x*size[1])\n",
    "        plot_tile(fig2_plt, t)\n",
    "fig2_plt.set_aspect('equal')\n",
    "pyplot.show()"
   ]
  },
  {
   "cell_type": "code",
   "execution_count": null,
   "metadata": {
    "collapsed": true,
    "deletable": true,
    "editable": true
   },
   "outputs": [],
   "source": []
  }
 ],
 "metadata": {
  "kernelspec": {
   "display_name": "Python 3",
   "language": "python",
   "name": "python3"
  },
  "language_info": {
   "codemirror_mode": {
    "name": "ipython",
    "version": 3
   },
   "file_extension": ".py",
   "mimetype": "text/x-python",
   "name": "python",
   "nbconvert_exporter": "python",
   "pygments_lexer": "ipython3",
   "version": "3.5.2"
  }
 },
 "nbformat": 4,
 "nbformat_minor": 2
}
